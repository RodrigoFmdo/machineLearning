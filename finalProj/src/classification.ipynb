{
 "cells": [
  {
   "cell_type": "code",
   "execution_count": 29,
   "metadata": {},
   "outputs": [],
   "source": [
    "#imports\n",
    "import numpy as np\n",
    "import pandas as pd\n",
    "import matplotlib.pyplot as plt\n",
    "import seaborn as sns\n",
    "\n",
    "#mostrar graficos dentro del notebook\n",
    "%matplotlib inline\n",
    "#no mostrar warnings\n",
    "import warnings\n",
    "warnings.filterwarnings(\"ignore\")"
   ]
  },
  {
   "cell_type": "code",
   "execution_count": 30,
   "metadata": {},
   "outputs": [],
   "source": [
    "#leer csv\n",
    "data = pd.read_csv('/Users/rod/Desktop/materias/machineLearning/finalProj/data/humanEvo.csv')"
   ]
  },
  {
   "cell_type": "markdown",
   "metadata": {},
   "source": [
    "## Exploración de los datos"
   ]
  },
  {
   "cell_type": "code",
   "execution_count": 31,
   "metadata": {},
   "outputs": [
    {
     "data": {
      "text/plain": [
       "(12000, 28)"
      ]
     },
     "execution_count": 31,
     "metadata": {},
     "output_type": "execute_result"
    }
   ],
   "source": [
    "#shape del dataframe\n",
    "data.shape"
   ]
  },
  {
   "cell_type": "code",
   "execution_count": 32,
   "metadata": {},
   "outputs": [
    {
     "data": {
      "text/html": [
       "<div>\n",
       "<style scoped>\n",
       "    .dataframe tbody tr th:only-of-type {\n",
       "        vertical-align: middle;\n",
       "    }\n",
       "\n",
       "    .dataframe tbody tr th {\n",
       "        vertical-align: top;\n",
       "    }\n",
       "\n",
       "    .dataframe thead th {\n",
       "        text-align: right;\n",
       "    }\n",
       "</style>\n",
       "<table border=\"1\" class=\"dataframe\">\n",
       "  <thead>\n",
       "    <tr style=\"text-align: right;\">\n",
       "      <th></th>\n",
       "      <th>Genus_&amp;_Specie</th>\n",
       "      <th>Time</th>\n",
       "      <th>Location</th>\n",
       "      <th>Zone</th>\n",
       "      <th>Current_Country</th>\n",
       "      <th>Habitat</th>\n",
       "      <th>Cranial_Capacity</th>\n",
       "      <th>Height</th>\n",
       "      <th>Incisor_Size</th>\n",
       "      <th>Jaw_Shape</th>\n",
       "      <th>...</th>\n",
       "      <th>biped</th>\n",
       "      <th>Arms</th>\n",
       "      <th>Foots</th>\n",
       "      <th>Diet</th>\n",
       "      <th>Sexual_Dimorphism</th>\n",
       "      <th>Hip</th>\n",
       "      <th>Vertical_Front</th>\n",
       "      <th>Anatomy</th>\n",
       "      <th>Migrated</th>\n",
       "      <th>Skeleton</th>\n",
       "    </tr>\n",
       "  </thead>\n",
       "  <tbody>\n",
       "    <tr>\n",
       "      <th>0</th>\n",
       "      <td>hominino Orrorin tugenencin</td>\n",
       "      <td>6.041124</td>\n",
       "      <td>Africa</td>\n",
       "      <td>oriental</td>\n",
       "      <td>Kenya</td>\n",
       "      <td>forest</td>\n",
       "      <td>144.51410</td>\n",
       "      <td>110.24323</td>\n",
       "      <td>small</td>\n",
       "      <td>conical</td>\n",
       "      <td>...</td>\n",
       "      <td>low probability</td>\n",
       "      <td>climbing</td>\n",
       "      <td>climbing</td>\n",
       "      <td>dry fruits</td>\n",
       "      <td>high</td>\n",
       "      <td>wide</td>\n",
       "      <td>no</td>\n",
       "      <td>old</td>\n",
       "      <td>no</td>\n",
       "      <td>light</td>\n",
       "    </tr>\n",
       "    <tr>\n",
       "      <th>1</th>\n",
       "      <td>hominino Ardipithecus ramidus / kabadda</td>\n",
       "      <td>4.383910</td>\n",
       "      <td>Africa</td>\n",
       "      <td>oriental</td>\n",
       "      <td>Ethiopia</td>\n",
       "      <td>mixed</td>\n",
       "      <td>293.96021</td>\n",
       "      <td>107.69018</td>\n",
       "      <td>small</td>\n",
       "      <td>conical</td>\n",
       "      <td>...</td>\n",
       "      <td>high probability</td>\n",
       "      <td>climbing</td>\n",
       "      <td>climbing</td>\n",
       "      <td>soft fruits</td>\n",
       "      <td>medium-high</td>\n",
       "      <td>wide</td>\n",
       "      <td>no</td>\n",
       "      <td>old</td>\n",
       "      <td>no</td>\n",
       "      <td>light</td>\n",
       "    </tr>\n",
       "    <tr>\n",
       "      <th>2</th>\n",
       "      <td>Australopithecus Afarensis</td>\n",
       "      <td>3.749413</td>\n",
       "      <td>Africa</td>\n",
       "      <td>oriental</td>\n",
       "      <td>Kenya</td>\n",
       "      <td>mixed</td>\n",
       "      <td>264.79849</td>\n",
       "      <td>123.76644</td>\n",
       "      <td>big</td>\n",
       "      <td>U shape</td>\n",
       "      <td>...</td>\n",
       "      <td>yes</td>\n",
       "      <td>climbing</td>\n",
       "      <td>walk</td>\n",
       "      <td>dry fruits</td>\n",
       "      <td>high</td>\n",
       "      <td>slim</td>\n",
       "      <td>no</td>\n",
       "      <td>old</td>\n",
       "      <td>no</td>\n",
       "      <td>refined</td>\n",
       "    </tr>\n",
       "  </tbody>\n",
       "</table>\n",
       "<p>3 rows × 28 columns</p>\n",
       "</div>"
      ],
      "text/plain": [
       "                            Genus_&_Specie      Time Location      Zone  \\\n",
       "0              hominino Orrorin tugenencin  6.041124   Africa  oriental   \n",
       "1  hominino Ardipithecus ramidus / kabadda  4.383910   Africa  oriental   \n",
       "2               Australopithecus Afarensis  3.749413   Africa  oriental   \n",
       "\n",
       "  Current_Country Habitat  Cranial_Capacity     Height Incisor_Size Jaw_Shape  \\\n",
       "0           Kenya  forest         144.51410  110.24323        small   conical   \n",
       "1        Ethiopia   mixed         293.96021  107.69018        small   conical   \n",
       "2           Kenya   mixed         264.79849  123.76644          big   U shape   \n",
       "\n",
       "   ...             biped      Arms     Foots         Diet Sexual_Dimorphism  \\\n",
       "0  ...   low probability  climbing  climbing   dry fruits              high   \n",
       "1  ...  high probability  climbing  climbing  soft fruits       medium-high   \n",
       "2  ...               yes  climbing      walk   dry fruits              high   \n",
       "\n",
       "    Hip Vertical_Front Anatomy Migrated Skeleton  \n",
       "0  wide             no     old       no    light  \n",
       "1  wide             no     old       no    light  \n",
       "2  slim             no     old       no  refined  \n",
       "\n",
       "[3 rows x 28 columns]"
      ]
     },
     "execution_count": 32,
     "metadata": {},
     "output_type": "execute_result"
    }
   ],
   "source": [
    "#mirar 3 muestras\n",
    "data.head(3)"
   ]
  },
  {
   "cell_type": "code",
   "execution_count": 33,
   "metadata": {},
   "outputs": [
    {
     "name": "stdout",
     "output_type": "stream",
     "text": [
      "valores faltantes: Genus_&_Specie             0\n",
      "Time                       0\n",
      "Location                   0\n",
      "Zone                       0\n",
      "Current_Country            0\n",
      "Habitat                    0\n",
      "Cranial_Capacity           0\n",
      "Height                     0\n",
      "Incisor_Size               0\n",
      "Jaw_Shape                  0\n",
      "Torus_Supraorbital         0\n",
      "Prognathism                0\n",
      "Foramen_Mágnum_Position    0\n",
      "Canine Size                0\n",
      "Canines_Shape              0\n",
      "Tooth_Enamel               0\n",
      "Tecno                      0\n",
      "Tecno_type                 0\n",
      "biped                      0\n",
      "Arms                       0\n",
      "Foots                      0\n",
      "Diet                       0\n",
      "Sexual_Dimorphism          0\n",
      "Hip                        0\n",
      "Vertical_Front             0\n",
      "Anatomy                    0\n",
      "Migrated                   0\n",
      "Skeleton                   0\n",
      "dtype: int64\n"
     ]
    }
   ],
   "source": [
    "# ahora vemos si hay valores faltantes y cuántos\n",
    "print(f\"valores faltantes: {data.isna().sum()}\")"
   ]
  },
  {
   "cell_type": "code",
   "execution_count": 34,
   "metadata": {},
   "outputs": [
    {
     "name": "stdout",
     "output_type": "stream",
     "text": [
      "valores únicos de Genus_&_Specie: ['hominino Orrorin tugenencin' 'hominino Ardipithecus ramidus / kabadda'\n",
      " 'Australopithecus Afarensis' 'Australopithecus Anamensis'\n",
      " 'Australopithecus Africanus' 'Homo Rodhesiensis'\n",
      " 'hominino Sahelanthropus tchadensis' 'Homo Neanderthalensis\\n'\n",
      " 'Paranthropus Aethiopicus' 'Homo Erectus' 'Homo Naledi'\n",
      " 'Homo Floresiensis' 'Paranthropus Boisei' 'Homo Rudolfensis'\n",
      " 'Homo Habilis' 'Homo Sapiens' 'Homo Antecesor' 'Homo Ergaster'\n",
      " 'Australopithecus Sediba' 'Homo Georgicus'\n",
      " 'Australopithecus Bahrelghazali' 'Australopithecus Garhi'\n",
      " 'Paranthropus Robustus' 'Homo Heidelbergensis']\n"
     ]
    }
   ],
   "source": [
    "#miremos los valores unicos de nuestra variable dependiente \n",
    "print(f'valores únicos de Genus_&_Specie: {data[\"Genus_&_Specie\"].unique()}')"
   ]
  },
  {
   "cell_type": "markdown",
   "metadata": {},
   "source": [
    "# Preprocesamiento"
   ]
  },
  {
   "cell_type": "markdown",
   "metadata": {},
   "source": [
    "#### Notemos que tenemos dos valores que toma Genus_&_Specie no cumplen el formato genero-especie que tienen todos los demás:\n",
    " - 'hominino Ardipithecus ramidus / kabadda'\n",
    " - 'Homo Neanderthalensis\\n'\n",
    "#### así que al primero le quitaremos la alternativa que tiene de especie después de la diagonal.\n",
    "#### y al segundo le quitaremos el '\\n' que no hace sentido"
   ]
  },
  {
   "cell_type": "code",
   "execution_count": 35,
   "metadata": {},
   "outputs": [],
   "source": [
    "# Eliminar la especie después de la barra inclinada '/'\n",
    "data['Genus_&_Specie'] = data['Genus_&_Specie'].apply(lambda x: x.split('/')[0].strip() if '/' in x else x)\n",
    "\n",
    "# Eliminar el carácter de salto de línea '\\n'\n",
    "data['Genus_&_Specie'] = data['Genus_&_Specie'].str.replace('\\n', '')"
   ]
  },
  {
   "cell_type": "code",
   "execution_count": 36,
   "metadata": {},
   "outputs": [
    {
     "name": "stdout",
     "output_type": "stream",
     "text": [
      "valores únicos de Genus_&_Specie: ['hominino Orrorin tugenencin' 'hominino Ardipithecus ramidus'\n",
      " 'Australopithecus Afarensis' 'Australopithecus Anamensis'\n",
      " 'Australopithecus Africanus' 'Homo Rodhesiensis'\n",
      " 'hominino Sahelanthropus tchadensis' 'Homo Neanderthalensis'\n",
      " 'Paranthropus Aethiopicus' 'Homo Erectus' 'Homo Naledi'\n",
      " 'Homo Floresiensis' 'Paranthropus Boisei' 'Homo Rudolfensis'\n",
      " 'Homo Habilis' 'Homo Sapiens' 'Homo Antecesor' 'Homo Ergaster'\n",
      " 'Australopithecus Sediba' 'Homo Georgicus'\n",
      " 'Australopithecus Bahrelghazali' 'Australopithecus Garhi'\n",
      " 'Paranthropus Robustus' 'Homo Heidelbergensis']\n"
     ]
    }
   ],
   "source": [
    "#verificamos los cambios\n",
    "print(f'valores únicos de Genus_&_Specie: {data[\"Genus_&_Specie\"].unique()}')"
   ]
  },
  {
   "cell_type": "markdown",
   "metadata": {},
   "source": [
    "### Analizaremos  la varianza de las variables categóricas. Aquellas variables con mayor variabilidad pueden ser más informativas.\n",
    "\n"
   ]
  },
  {
   "cell_type": "code",
   "execution_count": 37,
   "metadata": {},
   "outputs": [
    {
     "name": "stdout",
     "output_type": "stream",
     "text": [
      "                   Variable      Varianza\n",
      "0                  Location  1.875000e+07\n",
      "1                      Zone  5.500000e+06\n",
      "2           Current_Country  1.142857e+06\n",
      "3                   Habitat  1.642857e+06\n",
      "4              Incisor_Size  2.675000e+06\n",
      "5                 Jaw_Shape  4.166667e+06\n",
      "6        Torus_Supraorbital  4.300000e+06\n",
      "7               Prognathism  1.400000e+06\n",
      "8   Foramen_Mágnum_Position  3.166667e+06\n",
      "9               Canine Size  5.000000e+05\n",
      "10            Canines_Shape  2.000000e+06\n",
      "11             Tooth_Enamel  2.238095e+06\n",
      "12                    Tecno  9.750000e+06\n",
      "13               Tecno_type  5.500000e+06\n",
      "14                    biped  6.833333e+06\n",
      "15                     Arms  9.250000e+06\n",
      "16                    Foots  4.500000e+06\n",
      "17                     Diet  1.925000e+06\n",
      "18        Sexual_Dimorphism  9.250000e+06\n",
      "19                      Hip  2.166667e+06\n",
      "20           Vertical_Front  7.750000e+06\n",
      "21                  Anatomy  3.166667e+06\n",
      "22                 Migrated  1.800000e+07\n",
      "23                 Skeleton  4.750000e+06\n"
     ]
    }
   ],
   "source": [
    "categorical_variables = data.select_dtypes(include=['object']).drop(columns=[\"Genus_&_Specie\"]).columns\n",
    "# Crear un DataFrame vacío para almacenar los resultados\n",
    "resultsVariance = pd.DataFrame(columns=['Variable', 'Varianza'])\n",
    "\n",
    "# Calcular la varianza de las categorías en cada variable categórica\n",
    "for variable in categorical_variables:\n",
    "    category_variance = data.groupby(variable).size().var()\n",
    "    # Agregar los resultados al DataFrame\n",
    "    resultsVariance.loc[len(resultsVariance)] = [variable, category_variance]\n",
    "\n",
    "# Mostrar la tabla de resultados\n",
    "print(resultsVariance)\n",
    "\n",
    "\n"
   ]
  },
  {
   "cell_type": "markdown",
   "metadata": {},
   "source": [
    "### Filtremos variables por encima de un umbral "
   ]
  },
  {
   "cell_type": "code",
   "execution_count": 38,
   "metadata": {},
   "outputs": [
    {
     "name": "stdout",
     "output_type": "stream",
     "text": [
      "Variables con varianza importante:\n",
      "['Location', 'Zone', 'Tecno', 'Tecno_type', 'biped', 'Arms', 'Sexual_Dimorphism', 'Vertical_Front', 'Migrated']\n"
     ]
    }
   ],
   "source": [
    "\n",
    "umbral= 5000000.0  \n",
    "\n",
    "# Filtrar las variables con varianza mayor que el umbral\n",
    "variables_categoricas_importantes = resultsVariance[resultsVariance['Varianza'] > umbral]['Variable'].tolist()\n",
    "\n",
    "print(\"Variables con varianza importante:\")\n",
    "print(variables_categoricas_importantes)\n"
   ]
  },
  {
   "cell_type": "markdown",
   "metadata": {},
   "source": [
    "### Ahora actualizaremos el data frame con nuestras variables ya filtradas"
   ]
  },
  {
   "cell_type": "code",
   "execution_count": 44,
   "metadata": {},
   "outputs": [
    {
     "name": "stdout",
     "output_type": "stream",
     "text": [
      "número de columnas:13\n"
     ]
    }
   ],
   "source": [
    "variables_continuas = ['Time', 'Cranial_Capacity', 'Height']\n",
    "data_filtrado = data[['Genus_&_Specie'] + variables_categoricas_importantes + variables_continuas]\n",
    "print(f\"número de columnas:{len(data.columns)}\")"
   ]
  }
 ],
 "metadata": {
  "kernelspec": {
   "display_name": "crashcourse",
   "language": "python",
   "name": "python3"
  },
  "language_info": {
   "codemirror_mode": {
    "name": "ipython",
    "version": 3
   },
   "file_extension": ".py",
   "mimetype": "text/x-python",
   "name": "python",
   "nbconvert_exporter": "python",
   "pygments_lexer": "ipython3",
   "version": "3.12.2"
  }
 },
 "nbformat": 4,
 "nbformat_minor": 2
}

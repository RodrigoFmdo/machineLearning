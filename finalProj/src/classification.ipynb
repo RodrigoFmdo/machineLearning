{
 "cells": [
  {
   "cell_type": "code",
   "execution_count": 61,
   "metadata": {},
   "outputs": [],
   "source": [
    "#imports\n",
    "import numpy as np\n",
    "import pandas as pd\n",
    "import matplotlib.pyplot as plt\n",
    "import seaborn as sns\n",
    "\n",
    "#mostrar graficos dentro del notebook\n",
    "%matplotlib inline\n",
    "#no mostrar warnings\n",
    "import warnings\n",
    "warnings.filterwarnings(\"ignore\")"
   ]
  },
  {
   "cell_type": "code",
   "execution_count": 62,
   "metadata": {},
   "outputs": [],
   "source": [
    "#leer csv\n",
    "data = pd.read_csv('/Users/rod/Desktop/materias/machineLearning/finalProj/data/humanEvo.csv')"
   ]
  },
  {
   "cell_type": "markdown",
   "metadata": {},
   "source": [
    "## Exploración de los datos"
   ]
  },
  {
   "cell_type": "code",
   "execution_count": 63,
   "metadata": {},
   "outputs": [
    {
     "data": {
      "text/plain": [
       "(12000, 28)"
      ]
     },
     "execution_count": 63,
     "metadata": {},
     "output_type": "execute_result"
    }
   ],
   "source": [
    "#shape del dataframe\n",
    "data.shape"
   ]
  },
  {
   "cell_type": "code",
   "execution_count": 64,
   "metadata": {},
   "outputs": [
    {
     "data": {
      "text/html": [
       "<div>\n",
       "<style scoped>\n",
       "    .dataframe tbody tr th:only-of-type {\n",
       "        vertical-align: middle;\n",
       "    }\n",
       "\n",
       "    .dataframe tbody tr th {\n",
       "        vertical-align: top;\n",
       "    }\n",
       "\n",
       "    .dataframe thead th {\n",
       "        text-align: right;\n",
       "    }\n",
       "</style>\n",
       "<table border=\"1\" class=\"dataframe\">\n",
       "  <thead>\n",
       "    <tr style=\"text-align: right;\">\n",
       "      <th></th>\n",
       "      <th>Genus_&amp;_Specie</th>\n",
       "      <th>Time</th>\n",
       "      <th>Location</th>\n",
       "      <th>Zone</th>\n",
       "      <th>Current_Country</th>\n",
       "      <th>Habitat</th>\n",
       "      <th>Cranial_Capacity</th>\n",
       "      <th>Height</th>\n",
       "      <th>Incisor_Size</th>\n",
       "      <th>Jaw_Shape</th>\n",
       "      <th>...</th>\n",
       "      <th>biped</th>\n",
       "      <th>Arms</th>\n",
       "      <th>Foots</th>\n",
       "      <th>Diet</th>\n",
       "      <th>Sexual_Dimorphism</th>\n",
       "      <th>Hip</th>\n",
       "      <th>Vertical_Front</th>\n",
       "      <th>Anatomy</th>\n",
       "      <th>Migrated</th>\n",
       "      <th>Skeleton</th>\n",
       "    </tr>\n",
       "  </thead>\n",
       "  <tbody>\n",
       "    <tr>\n",
       "      <th>0</th>\n",
       "      <td>hominino Orrorin tugenencin</td>\n",
       "      <td>6.041124</td>\n",
       "      <td>Africa</td>\n",
       "      <td>oriental</td>\n",
       "      <td>Kenya</td>\n",
       "      <td>forest</td>\n",
       "      <td>144.51410</td>\n",
       "      <td>110.24323</td>\n",
       "      <td>small</td>\n",
       "      <td>conical</td>\n",
       "      <td>...</td>\n",
       "      <td>low probability</td>\n",
       "      <td>climbing</td>\n",
       "      <td>climbing</td>\n",
       "      <td>dry fruits</td>\n",
       "      <td>high</td>\n",
       "      <td>wide</td>\n",
       "      <td>no</td>\n",
       "      <td>old</td>\n",
       "      <td>no</td>\n",
       "      <td>light</td>\n",
       "    </tr>\n",
       "    <tr>\n",
       "      <th>1</th>\n",
       "      <td>hominino Ardipithecus ramidus / kabadda</td>\n",
       "      <td>4.383910</td>\n",
       "      <td>Africa</td>\n",
       "      <td>oriental</td>\n",
       "      <td>Ethiopia</td>\n",
       "      <td>mixed</td>\n",
       "      <td>293.96021</td>\n",
       "      <td>107.69018</td>\n",
       "      <td>small</td>\n",
       "      <td>conical</td>\n",
       "      <td>...</td>\n",
       "      <td>high probability</td>\n",
       "      <td>climbing</td>\n",
       "      <td>climbing</td>\n",
       "      <td>soft fruits</td>\n",
       "      <td>medium-high</td>\n",
       "      <td>wide</td>\n",
       "      <td>no</td>\n",
       "      <td>old</td>\n",
       "      <td>no</td>\n",
       "      <td>light</td>\n",
       "    </tr>\n",
       "    <tr>\n",
       "      <th>2</th>\n",
       "      <td>Australopithecus Afarensis</td>\n",
       "      <td>3.749413</td>\n",
       "      <td>Africa</td>\n",
       "      <td>oriental</td>\n",
       "      <td>Kenya</td>\n",
       "      <td>mixed</td>\n",
       "      <td>264.79849</td>\n",
       "      <td>123.76644</td>\n",
       "      <td>big</td>\n",
       "      <td>U shape</td>\n",
       "      <td>...</td>\n",
       "      <td>yes</td>\n",
       "      <td>climbing</td>\n",
       "      <td>walk</td>\n",
       "      <td>dry fruits</td>\n",
       "      <td>high</td>\n",
       "      <td>slim</td>\n",
       "      <td>no</td>\n",
       "      <td>old</td>\n",
       "      <td>no</td>\n",
       "      <td>refined</td>\n",
       "    </tr>\n",
       "  </tbody>\n",
       "</table>\n",
       "<p>3 rows × 28 columns</p>\n",
       "</div>"
      ],
      "text/plain": [
       "                            Genus_&_Specie      Time Location      Zone  \\\n",
       "0              hominino Orrorin tugenencin  6.041124   Africa  oriental   \n",
       "1  hominino Ardipithecus ramidus / kabadda  4.383910   Africa  oriental   \n",
       "2               Australopithecus Afarensis  3.749413   Africa  oriental   \n",
       "\n",
       "  Current_Country Habitat  Cranial_Capacity     Height Incisor_Size Jaw_Shape  \\\n",
       "0           Kenya  forest         144.51410  110.24323        small   conical   \n",
       "1        Ethiopia   mixed         293.96021  107.69018        small   conical   \n",
       "2           Kenya   mixed         264.79849  123.76644          big   U shape   \n",
       "\n",
       "   ...             biped      Arms     Foots         Diet Sexual_Dimorphism  \\\n",
       "0  ...   low probability  climbing  climbing   dry fruits              high   \n",
       "1  ...  high probability  climbing  climbing  soft fruits       medium-high   \n",
       "2  ...               yes  climbing      walk   dry fruits              high   \n",
       "\n",
       "    Hip Vertical_Front Anatomy Migrated Skeleton  \n",
       "0  wide             no     old       no    light  \n",
       "1  wide             no     old       no    light  \n",
       "2  slim             no     old       no  refined  \n",
       "\n",
       "[3 rows x 28 columns]"
      ]
     },
     "execution_count": 64,
     "metadata": {},
     "output_type": "execute_result"
    }
   ],
   "source": [
    "#mirar 3 muestras\n",
    "data.head(3)"
   ]
  },
  {
   "cell_type": "code",
   "execution_count": 65,
   "metadata": {},
   "outputs": [
    {
     "name": "stdout",
     "output_type": "stream",
     "text": [
      "valores faltantes: Genus_&_Specie             0\n",
      "Time                       0\n",
      "Location                   0\n",
      "Zone                       0\n",
      "Current_Country            0\n",
      "Habitat                    0\n",
      "Cranial_Capacity           0\n",
      "Height                     0\n",
      "Incisor_Size               0\n",
      "Jaw_Shape                  0\n",
      "Torus_Supraorbital         0\n",
      "Prognathism                0\n",
      "Foramen_Mágnum_Position    0\n",
      "Canine Size                0\n",
      "Canines_Shape              0\n",
      "Tooth_Enamel               0\n",
      "Tecno                      0\n",
      "Tecno_type                 0\n",
      "biped                      0\n",
      "Arms                       0\n",
      "Foots                      0\n",
      "Diet                       0\n",
      "Sexual_Dimorphism          0\n",
      "Hip                        0\n",
      "Vertical_Front             0\n",
      "Anatomy                    0\n",
      "Migrated                   0\n",
      "Skeleton                   0\n",
      "dtype: int64\n"
     ]
    }
   ],
   "source": [
    "# ahora vemos si hay valores faltantes y cuántos\n",
    "print(f\"valores faltantes: {data.isna().sum()}\")"
   ]
  },
  {
   "cell_type": "code",
   "execution_count": 66,
   "metadata": {},
   "outputs": [
    {
     "name": "stdout",
     "output_type": "stream",
     "text": [
      "valores únicos de Genus_&_Specie: ['hominino Orrorin tugenencin' 'hominino Ardipithecus ramidus / kabadda'\n",
      " 'Australopithecus Afarensis' 'Australopithecus Anamensis'\n",
      " 'Australopithecus Africanus' 'Homo Rodhesiensis'\n",
      " 'hominino Sahelanthropus tchadensis' 'Homo Neanderthalensis\\n'\n",
      " 'Paranthropus Aethiopicus' 'Homo Erectus' 'Homo Naledi'\n",
      " 'Homo Floresiensis' 'Paranthropus Boisei' 'Homo Rudolfensis'\n",
      " 'Homo Habilis' 'Homo Sapiens' 'Homo Antecesor' 'Homo Ergaster'\n",
      " 'Australopithecus Sediba' 'Homo Georgicus'\n",
      " 'Australopithecus Bahrelghazali' 'Australopithecus Garhi'\n",
      " 'Paranthropus Robustus' 'Homo Heidelbergensis']\n"
     ]
    }
   ],
   "source": [
    "#miremos los valores unicos de nuestra variable dependiente \n",
    "print(f'valores únicos de Genus_&_Specie: {data[\"Genus_&_Specie\"].unique()}')"
   ]
  },
  {
   "cell_type": "markdown",
   "metadata": {},
   "source": [
    "# Preprocesamiento"
   ]
  },
  {
   "cell_type": "markdown",
   "metadata": {},
   "source": [
    "#### Notemos que tenemos dos valores que toma Genus_&_Specie no cumplen el formato genero-especie que tienen todos los demás:\n",
    " - 'hominino Ardipithecus ramidus / kabadda'\n",
    " - 'Homo Neanderthalensis\\n'\n",
    "#### así que al primero le quitaremos la alternativa que tiene de especie después de la diagonal.\n",
    "#### y al segundo le quitaremos el '\\n' que no hace sentido"
   ]
  },
  {
   "cell_type": "code",
   "execution_count": 67,
   "metadata": {},
   "outputs": [],
   "source": [
    "# Eliminar la especie después de la barra inclinada '/'\n",
    "data['Genus_&_Specie'] = data['Genus_&_Specie'].apply(lambda x: x.split('/')[0].strip() if '/' in x else x)\n",
    "\n",
    "# Eliminar el carácter de salto de línea '\\n'\n",
    "data['Genus_&_Specie'] = data['Genus_&_Specie'].str.replace('\\n', '')"
   ]
  },
  {
   "cell_type": "code",
   "execution_count": 68,
   "metadata": {},
   "outputs": [
    {
     "name": "stdout",
     "output_type": "stream",
     "text": [
      "valores únicos de Genus_&_Specie: ['hominino Orrorin tugenencin' 'hominino Ardipithecus ramidus'\n",
      " 'Australopithecus Afarensis' 'Australopithecus Anamensis'\n",
      " 'Australopithecus Africanus' 'Homo Rodhesiensis'\n",
      " 'hominino Sahelanthropus tchadensis' 'Homo Neanderthalensis'\n",
      " 'Paranthropus Aethiopicus' 'Homo Erectus' 'Homo Naledi'\n",
      " 'Homo Floresiensis' 'Paranthropus Boisei' 'Homo Rudolfensis'\n",
      " 'Homo Habilis' 'Homo Sapiens' 'Homo Antecesor' 'Homo Ergaster'\n",
      " 'Australopithecus Sediba' 'Homo Georgicus'\n",
      " 'Australopithecus Bahrelghazali' 'Australopithecus Garhi'\n",
      " 'Paranthropus Robustus' 'Homo Heidelbergensis']\n"
     ]
    }
   ],
   "source": [
    "#verificamos los cambios\n",
    "print(f'valores únicos de Genus_&_Specie: {data[\"Genus_&_Specie\"].unique()}')"
   ]
  },
  {
   "cell_type": "markdown",
   "metadata": {},
   "source": [
    "### Analizaremos  la varianza de las variables categóricas. Aquellas variables con mayor variabilidad pueden ser más informativas.\n",
    "\n"
   ]
  },
  {
   "cell_type": "code",
   "execution_count": 69,
   "metadata": {},
   "outputs": [
    {
     "name": "stdout",
     "output_type": "stream",
     "text": [
      "                   Variable      Varianza\n",
      "0                  Location  1.875000e+07\n",
      "1                      Zone  5.500000e+06\n",
      "2           Current_Country  1.142857e+06\n",
      "3                   Habitat  1.642857e+06\n",
      "4              Incisor_Size  2.675000e+06\n",
      "5                 Jaw_Shape  4.166667e+06\n",
      "6        Torus_Supraorbital  4.300000e+06\n",
      "7               Prognathism  1.400000e+06\n",
      "8   Foramen_Mágnum_Position  3.166667e+06\n",
      "9               Canine Size  5.000000e+05\n",
      "10            Canines_Shape  2.000000e+06\n",
      "11             Tooth_Enamel  2.238095e+06\n",
      "12                    Tecno  9.750000e+06\n",
      "13               Tecno_type  5.500000e+06\n",
      "14                    biped  6.833333e+06\n",
      "15                     Arms  9.250000e+06\n",
      "16                    Foots  4.500000e+06\n",
      "17                     Diet  1.925000e+06\n",
      "18        Sexual_Dimorphism  9.250000e+06\n",
      "19                      Hip  2.166667e+06\n",
      "20           Vertical_Front  7.750000e+06\n",
      "21                  Anatomy  3.166667e+06\n",
      "22                 Migrated  1.800000e+07\n",
      "23                 Skeleton  4.750000e+06\n"
     ]
    }
   ],
   "source": [
    "categorical_variables = data.select_dtypes(include=['object']).drop(columns=[\"Genus_&_Specie\"]).columns\n",
    "# Crear un DataFrame vacío para almacenar los resultados\n",
    "resultsVariance = pd.DataFrame(columns=['Variable', 'Varianza'])\n",
    "\n",
    "# Calcular la varianza de las categorías en cada variable categórica\n",
    "for variable in categorical_variables:\n",
    "    category_variance = data.groupby(variable).size().var()\n",
    "    # Agregar los resultados al DataFrame\n",
    "    resultsVariance.loc[len(resultsVariance)] = [variable, category_variance]\n",
    "\n",
    "# Mostrar la tabla de resultados\n",
    "print(resultsVariance)\n",
    "\n",
    "\n"
   ]
  },
  {
   "cell_type": "markdown",
   "metadata": {},
   "source": [
    "### Filtremos variables por encima de un umbral "
   ]
  },
  {
   "cell_type": "code",
   "execution_count": 70,
   "metadata": {},
   "outputs": [
    {
     "name": "stdout",
     "output_type": "stream",
     "text": [
      "Variables con varianza importante:\n",
      "['Location', 'Zone', 'Tecno', 'Tecno_type', 'biped', 'Arms', 'Sexual_Dimorphism', 'Vertical_Front', 'Migrated']\n"
     ]
    }
   ],
   "source": [
    "\n",
    "umbral= 5000000.0  \n",
    "\n",
    "# Filtrar las variables con varianza mayor que el umbral\n",
    "variables_categoricas_importantes = resultsVariance[resultsVariance['Varianza'] > umbral]['Variable'].tolist()\n",
    "\n",
    "print(\"Variables con varianza importante:\")\n",
    "print(variables_categoricas_importantes)\n"
   ]
  },
  {
   "cell_type": "markdown",
   "metadata": {},
   "source": [
    "### Ahora actualizaremos el data frame con nuestras variables ya filtradas"
   ]
  },
  {
   "cell_type": "code",
   "execution_count": 71,
   "metadata": {},
   "outputs": [
    {
     "name": "stdout",
     "output_type": "stream",
     "text": [
      "número de columnas:28\n"
     ]
    }
   ],
   "source": [
    "variables_continuas = ['Time', 'Cranial_Capacity', 'Height']\n",
    "data_filtrado = data[['Genus_&_Specie'] + variables_categoricas_importantes + variables_continuas]\n",
    "print(f\"número de columnas:{len(data.columns)}\")"
   ]
  },
  {
   "cell_type": "markdown",
   "metadata": {},
   "source": [
    "### One-hot encoding a las variables categóricas"
   ]
  },
  {
   "cell_type": "code",
   "execution_count": 77,
   "metadata": {},
   "outputs": [
    {
     "data": {
      "text/html": [
       "<div>\n",
       "<style scoped>\n",
       "    .dataframe tbody tr th:only-of-type {\n",
       "        vertical-align: middle;\n",
       "    }\n",
       "\n",
       "    .dataframe tbody tr th {\n",
       "        vertical-align: top;\n",
       "    }\n",
       "\n",
       "    .dataframe thead th {\n",
       "        text-align: right;\n",
       "    }\n",
       "</style>\n",
       "<table border=\"1\" class=\"dataframe\">\n",
       "  <thead>\n",
       "    <tr style=\"text-align: right;\">\n",
       "      <th></th>\n",
       "      <th>Genus_&amp;_Specie</th>\n",
       "      <th>Time</th>\n",
       "      <th>Cranial_Capacity</th>\n",
       "      <th>Height</th>\n",
       "      <th>Location_Asia</th>\n",
       "      <th>Location_Europa</th>\n",
       "      <th>Zone_oriental</th>\n",
       "      <th>Zone_south</th>\n",
       "      <th>Zone_west</th>\n",
       "      <th>Tecno_no</th>\n",
       "      <th>...</th>\n",
       "      <th>biped_low probability</th>\n",
       "      <th>biped_modern</th>\n",
       "      <th>biped_yes</th>\n",
       "      <th>Arms_manipulate</th>\n",
       "      <th>Arms_manipulate with precision</th>\n",
       "      <th>Sexual_Dimorphism_medium-high</th>\n",
       "      <th>Sexual_Dimorphism_reduced</th>\n",
       "      <th>Vertical_Front_no</th>\n",
       "      <th>Vertical_Front_yes</th>\n",
       "      <th>Migrated_yes</th>\n",
       "    </tr>\n",
       "  </thead>\n",
       "  <tbody>\n",
       "    <tr>\n",
       "      <th>0</th>\n",
       "      <td>hominino Orrorin tugenencin</td>\n",
       "      <td>6.041124</td>\n",
       "      <td>144.51410</td>\n",
       "      <td>110.24323</td>\n",
       "      <td>0.0</td>\n",
       "      <td>0.0</td>\n",
       "      <td>1.0</td>\n",
       "      <td>0.0</td>\n",
       "      <td>0.0</td>\n",
       "      <td>1.0</td>\n",
       "      <td>...</td>\n",
       "      <td>1.0</td>\n",
       "      <td>0.0</td>\n",
       "      <td>0.0</td>\n",
       "      <td>0.0</td>\n",
       "      <td>0.0</td>\n",
       "      <td>0.0</td>\n",
       "      <td>0.0</td>\n",
       "      <td>1.0</td>\n",
       "      <td>0.0</td>\n",
       "      <td>0.0</td>\n",
       "    </tr>\n",
       "    <tr>\n",
       "      <th>1</th>\n",
       "      <td>hominino Ardipithecus ramidus</td>\n",
       "      <td>4.383910</td>\n",
       "      <td>293.96021</td>\n",
       "      <td>107.69018</td>\n",
       "      <td>0.0</td>\n",
       "      <td>0.0</td>\n",
       "      <td>1.0</td>\n",
       "      <td>0.0</td>\n",
       "      <td>0.0</td>\n",
       "      <td>1.0</td>\n",
       "      <td>...</td>\n",
       "      <td>0.0</td>\n",
       "      <td>0.0</td>\n",
       "      <td>0.0</td>\n",
       "      <td>0.0</td>\n",
       "      <td>0.0</td>\n",
       "      <td>1.0</td>\n",
       "      <td>0.0</td>\n",
       "      <td>1.0</td>\n",
       "      <td>0.0</td>\n",
       "      <td>0.0</td>\n",
       "    </tr>\n",
       "    <tr>\n",
       "      <th>2</th>\n",
       "      <td>Australopithecus Afarensis</td>\n",
       "      <td>3.749413</td>\n",
       "      <td>264.79849</td>\n",
       "      <td>123.76644</td>\n",
       "      <td>0.0</td>\n",
       "      <td>0.0</td>\n",
       "      <td>1.0</td>\n",
       "      <td>0.0</td>\n",
       "      <td>0.0</td>\n",
       "      <td>1.0</td>\n",
       "      <td>...</td>\n",
       "      <td>0.0</td>\n",
       "      <td>0.0</td>\n",
       "      <td>1.0</td>\n",
       "      <td>0.0</td>\n",
       "      <td>0.0</td>\n",
       "      <td>0.0</td>\n",
       "      <td>0.0</td>\n",
       "      <td>1.0</td>\n",
       "      <td>0.0</td>\n",
       "      <td>0.0</td>\n",
       "    </tr>\n",
       "    <tr>\n",
       "      <th>3</th>\n",
       "      <td>Australopithecus Anamensis</td>\n",
       "      <td>4.595606</td>\n",
       "      <td>403.28047</td>\n",
       "      <td>111.40831</td>\n",
       "      <td>0.0</td>\n",
       "      <td>0.0</td>\n",
       "      <td>1.0</td>\n",
       "      <td>0.0</td>\n",
       "      <td>0.0</td>\n",
       "      <td>1.0</td>\n",
       "      <td>...</td>\n",
       "      <td>0.0</td>\n",
       "      <td>0.0</td>\n",
       "      <td>1.0</td>\n",
       "      <td>0.0</td>\n",
       "      <td>0.0</td>\n",
       "      <td>0.0</td>\n",
       "      <td>0.0</td>\n",
       "      <td>1.0</td>\n",
       "      <td>0.0</td>\n",
       "      <td>0.0</td>\n",
       "    </tr>\n",
       "    <tr>\n",
       "      <th>4</th>\n",
       "      <td>Australopithecus Africanus</td>\n",
       "      <td>3.614060</td>\n",
       "      <td>679.15233</td>\n",
       "      <td>111.59004</td>\n",
       "      <td>0.0</td>\n",
       "      <td>0.0</td>\n",
       "      <td>0.0</td>\n",
       "      <td>1.0</td>\n",
       "      <td>0.0</td>\n",
       "      <td>1.0</td>\n",
       "      <td>...</td>\n",
       "      <td>0.0</td>\n",
       "      <td>0.0</td>\n",
       "      <td>1.0</td>\n",
       "      <td>0.0</td>\n",
       "      <td>0.0</td>\n",
       "      <td>0.0</td>\n",
       "      <td>0.0</td>\n",
       "      <td>0.0</td>\n",
       "      <td>1.0</td>\n",
       "      <td>0.0</td>\n",
       "    </tr>\n",
       "  </tbody>\n",
       "</table>\n",
       "<p>5 rows × 26 columns</p>\n",
       "</div>"
      ],
      "text/plain": [
       "                  Genus_&_Specie      Time  Cranial_Capacity     Height  \\\n",
       "0    hominino Orrorin tugenencin  6.041124         144.51410  110.24323   \n",
       "1  hominino Ardipithecus ramidus  4.383910         293.96021  107.69018   \n",
       "2     Australopithecus Afarensis  3.749413         264.79849  123.76644   \n",
       "3     Australopithecus Anamensis  4.595606         403.28047  111.40831   \n",
       "4     Australopithecus Africanus  3.614060         679.15233  111.59004   \n",
       "\n",
       "   Location_Asia   Location_Europa  Zone_oriental  Zone_south  Zone_west  \\\n",
       "0             0.0              0.0            1.0         0.0        0.0   \n",
       "1             0.0              0.0            1.0         0.0        0.0   \n",
       "2             0.0              0.0            1.0         0.0        0.0   \n",
       "3             0.0              0.0            1.0         0.0        0.0   \n",
       "4             0.0              0.0            0.0         1.0        0.0   \n",
       "\n",
       "   Tecno_no  ...  biped_low probability  biped_modern  biped_yes  \\\n",
       "0       1.0  ...                    1.0           0.0        0.0   \n",
       "1       1.0  ...                    0.0           0.0        0.0   \n",
       "2       1.0  ...                    0.0           0.0        1.0   \n",
       "3       1.0  ...                    0.0           0.0        1.0   \n",
       "4       1.0  ...                    0.0           0.0        1.0   \n",
       "\n",
       "   Arms_manipulate  Arms_manipulate with precision  \\\n",
       "0              0.0                             0.0   \n",
       "1              0.0                             0.0   \n",
       "2              0.0                             0.0   \n",
       "3              0.0                             0.0   \n",
       "4              0.0                             0.0   \n",
       "\n",
       "   Sexual_Dimorphism_medium-high  Sexual_Dimorphism_reduced  \\\n",
       "0                            0.0                        0.0   \n",
       "1                            1.0                        0.0   \n",
       "2                            0.0                        0.0   \n",
       "3                            0.0                        0.0   \n",
       "4                            0.0                        0.0   \n",
       "\n",
       "   Vertical_Front_no  Vertical_Front_yes  Migrated_yes  \n",
       "0                1.0                 0.0           0.0  \n",
       "1                1.0                 0.0           0.0  \n",
       "2                1.0                 0.0           0.0  \n",
       "3                1.0                 0.0           0.0  \n",
       "4                0.0                 1.0           0.0  \n",
       "\n",
       "[5 rows x 26 columns]"
      ]
     },
     "execution_count": 77,
     "metadata": {},
     "output_type": "execute_result"
    }
   ],
   "source": [
    "from sklearn.preprocessing import OneHotEncoder\n",
    "# One-Hot Encoding para variables categóricas\n",
    "encoder = OneHotEncoder(sparse=False, drop='first')\n",
    "encoded_categorical = encoder.fit_transform(data_filtrado[variables_categoricas_importantes])\n",
    "\n",
    "# Crear un DataFrame con las variables codificadas\n",
    "encoded_df = pd.DataFrame(encoded_categorical, columns=encoder.get_feature_names_out(variables_categoricas_importantes))\n",
    "\n",
    "# Combinar con las variables continuas y la variable objetivo\n",
    "data_final = pd.concat([data_filtrado[['Genus_&_Specie']], data_filtrado[variables_continuas], encoded_df], axis=1)\n",
    "\n",
    "# Mostrar las primeras filas del DataFrame final\n",
    "data_final.head()\n"
   ]
  },
  {
   "cell_type": "markdown",
   "metadata": {},
   "source": [
    "### División del conjunto de datos "
   ]
  },
  {
   "cell_type": "code",
   "execution_count": 78,
   "metadata": {},
   "outputs": [],
   "source": [
    "from sklearn.model_selection import train_test_split\n",
    "\n",
    "# Definir variables predictoras y la variable objetivo\n",
    "X = data_final.drop(columns=['Genus_&_Specie'])\n",
    "y = data_final['Genus_&_Specie']\n",
    "\n",
    "# Dividir el conjunto de datos en entrenamiento y prueba\n",
    "X_train, X_test, y_train, y_test = train_test_split(X, y, test_size=0.3, random_state=42)\n"
   ]
  },
  {
   "cell_type": "code",
   "execution_count": 100,
   "metadata": {},
   "outputs": [
    {
     "data": {
      "text/plain": [
       "(8400,)"
      ]
     },
     "execution_count": 100,
     "metadata": {},
     "output_type": "execute_result"
    }
   ],
   "source": [
    "X_train.shape\n",
    "y_train.shape"
   ]
  },
  {
   "cell_type": "markdown",
   "metadata": {},
   "source": [
    "### Normalización de los datos "
   ]
  },
  {
   "cell_type": "code",
   "execution_count": 81,
   "metadata": {},
   "outputs": [],
   "source": [
    "from sklearn.preprocessing import StandardScaler\n",
    "\n",
    "# Normalizar las características\n",
    "scaler = StandardScaler()\n",
    "X_train_scaled = scaler.fit_transform(X_train)\n",
    "X_test_scaled = scaler.transform(X_test)"
   ]
  },
  {
   "cell_type": "markdown",
   "metadata": {},
   "source": [
    "## Construccion y evaluación de modelos"
   ]
  },
  {
   "cell_type": "markdown",
   "metadata": {},
   "source": [
    "### Random forest"
   ]
  },
  {
   "cell_type": "code",
   "execution_count": 102,
   "metadata": {},
   "outputs": [
    {
     "name": "stdout",
     "output_type": "stream",
     "text": [
      "Accuracy: 0.9380555555555555\n",
      "Classification Report:\n",
      "                                     precision    recall  f1-score   support\n",
      "\n",
      "        Australopithecus Afarensis       0.78      0.77      0.78       151\n",
      "        Australopithecus Africanus       1.00      1.00      1.00       142\n",
      "        Australopithecus Anamensis       0.79      0.80      0.79       162\n",
      "    Australopithecus Bahrelghazali       1.00      1.00      1.00       155\n",
      "            Australopithecus Garhi       1.00      1.00      1.00       148\n",
      "           Australopithecus Sediba       0.80      0.83      0.82       139\n",
      "                    Homo Antecesor       1.00      1.00      1.00       146\n",
      "                      Homo Erectus       1.00      1.00      1.00       139\n",
      "                     Homo Ergaster       1.00      1.00      1.00       175\n",
      "                 Homo Floresiensis       1.00      1.00      1.00       155\n",
      "                    Homo Georgicus       1.00      1.00      1.00       150\n",
      "                      Homo Habilis       1.00      1.00      1.00       146\n",
      "              Homo Heidelbergensis       1.00      1.00      1.00       140\n",
      "                       Homo Naledi       1.00      1.00      1.00       128\n",
      "             Homo Neanderthalensis       1.00      1.00      1.00       152\n",
      "                 Homo Rodhesiensis       1.00      1.00      1.00       149\n",
      "                  Homo Rudolfensis       1.00      1.00      1.00       155\n",
      "                      Homo Sapiens       1.00      1.00      1.00       142\n",
      "          Paranthropus Aethiopicus       0.70      0.60      0.65       159\n",
      "               Paranthropus Boisei       0.65      0.75      0.69       158\n",
      "             Paranthropus Robustus       0.84      0.81      0.82       149\n",
      "     hominino Ardipithecus ramidus       1.00      1.00      1.00       143\n",
      "       hominino Orrorin tugenencin       1.00      1.00      1.00       159\n",
      "hominino Sahelanthropus tchadensis       1.00      1.00      1.00       158\n",
      "\n",
      "                          accuracy                           0.94      3600\n",
      "                         macro avg       0.94      0.94      0.94      3600\n",
      "                      weighted avg       0.94      0.94      0.94      3600\n",
      "\n"
     ]
    }
   ],
   "source": [
    "from sklearn.ensemble import RandomForestClassifier\n",
    "from sklearn.metrics import classification_report, accuracy_score, confusion_matrix\n",
    "\n",
    "# Crear el modelo\n",
    "model = RandomForestClassifier(random_state=42)\n",
    "\n",
    "# Entrenar el modelo\n",
    "model.fit(X_train_scaled, y_train)\n",
    "\n",
    "# Predecir en el conjunto de prueba\n",
    "y_pred = model.predict(X_test_scaled)\n",
    "\n",
    "# Evaluar el modelo\n",
    "accuracy = accuracy_score(y_test, y_pred)\n",
    "class_report = classification_report(y_test, y_pred)\n",
    "conf_matrix = confusion_matrix(y_test, y_pred)\n",
    "\n",
    "print(\"Accuracy:\", accuracy)\n",
    "\n",
    "# Generar el informe de clasificación\n",
    "class_report = classification_report(y_test, y_pred)\n",
    "\n",
    "# Imprimir el informe de clasificación\n",
    "print(\"Classification Report:\\n\", class_report)\n"
   ]
  },
  {
   "cell_type": "markdown",
   "metadata": {},
   "source": [
    "### SVM\n"
   ]
  },
  {
   "cell_type": "code",
   "execution_count": 104,
   "metadata": {},
   "outputs": [
    {
     "name": "stdout",
     "output_type": "stream",
     "text": [
      "SVM Accuracy: 0.9444444444444444\n",
      "SVM Report:\n",
      "                                     precision    recall  f1-score   support\n",
      "\n",
      "        Australopithecus Afarensis       0.80      0.84      0.82       151\n",
      "        Australopithecus Africanus       1.00      1.00      1.00       142\n",
      "        Australopithecus Anamensis       0.85      0.81      0.83       162\n",
      "    Australopithecus Bahrelghazali       1.00      1.00      1.00       155\n",
      "            Australopithecus Garhi       1.00      1.00      1.00       148\n",
      "           Australopithecus Sediba       0.80      0.86      0.83       139\n",
      "                    Homo Antecesor       1.00      1.00      1.00       146\n",
      "                      Homo Erectus       1.00      0.99      1.00       139\n",
      "                     Homo Ergaster       1.00      1.00      1.00       175\n",
      "                 Homo Floresiensis       1.00      1.00      1.00       155\n",
      "                    Homo Georgicus       0.99      1.00      1.00       150\n",
      "                      Homo Habilis       1.00      1.00      1.00       146\n",
      "              Homo Heidelbergensis       1.00      1.00      1.00       140\n",
      "                       Homo Naledi       1.00      1.00      1.00       128\n",
      "             Homo Neanderthalensis       1.00      1.00      1.00       152\n",
      "                 Homo Rodhesiensis       1.00      1.00      1.00       149\n",
      "                  Homo Rudolfensis       0.99      1.00      0.99       155\n",
      "                      Homo Sapiens       1.00      1.00      1.00       142\n",
      "          Paranthropus Aethiopicus       0.71      0.70      0.70       159\n",
      "               Paranthropus Boisei       0.70      0.70      0.70       158\n",
      "             Paranthropus Robustus       0.86      0.81      0.83       149\n",
      "     hominino Ardipithecus ramidus       1.00      1.00      1.00       143\n",
      "       hominino Orrorin tugenencin       1.00      1.00      1.00       159\n",
      "hominino Sahelanthropus tchadensis       1.00      1.00      1.00       158\n",
      "\n",
      "                          accuracy                           0.94      3600\n",
      "                         macro avg       0.95      0.95      0.95      3600\n",
      "                      weighted avg       0.94      0.94      0.94      3600\n",
      "\n"
     ]
    }
   ],
   "source": [
    "from sklearn.svm import SVC\n",
    "\n",
    "model = SVC(random_state=42)\n",
    "model.fit(X_train_scaled, y_train)\n",
    "y_pred = model.predict(X_test_scaled)\n",
    "\n",
    "print(\"SVM Accuracy:\", accuracy_score(y_test, y_pred))\n",
    "print(\"SVM Report:\\n\", classification_report(y_test, y_pred))\n"
   ]
  },
  {
   "cell_type": "markdown",
   "metadata": {},
   "source": [
    "### KNN"
   ]
  },
  {
   "cell_type": "code",
   "execution_count": 105,
   "metadata": {},
   "outputs": [
    {
     "name": "stdout",
     "output_type": "stream",
     "text": [
      "KNN Accuracy: 0.9413888888888889\n",
      "KNN Report:\n",
      "                                     precision    recall  f1-score   support\n",
      "\n",
      "        Australopithecus Afarensis       0.82      0.80      0.81       151\n",
      "        Australopithecus Africanus       1.00      1.00      1.00       142\n",
      "        Australopithecus Anamensis       0.82      0.83      0.83       162\n",
      "    Australopithecus Bahrelghazali       1.00      1.00      1.00       155\n",
      "            Australopithecus Garhi       1.00      1.00      1.00       148\n",
      "           Australopithecus Sediba       0.81      0.86      0.84       139\n",
      "                    Homo Antecesor       1.00      1.00      1.00       146\n",
      "                      Homo Erectus       1.00      1.00      1.00       139\n",
      "                     Homo Ergaster       1.00      1.00      1.00       175\n",
      "                 Homo Floresiensis       1.00      1.00      1.00       155\n",
      "                    Homo Georgicus       1.00      1.00      1.00       150\n",
      "                      Homo Habilis       1.00      1.00      1.00       146\n",
      "              Homo Heidelbergensis       1.00      1.00      1.00       140\n",
      "                       Homo Naledi       1.00      1.00      1.00       128\n",
      "             Homo Neanderthalensis       1.00      1.00      1.00       152\n",
      "                 Homo Rodhesiensis       1.00      1.00      1.00       149\n",
      "                  Homo Rudolfensis       1.00      0.98      0.99       155\n",
      "                      Homo Sapiens       1.00      1.00      1.00       142\n",
      "          Paranthropus Aethiopicus       0.69      0.63      0.66       159\n",
      "               Paranthropus Boisei       0.65      0.72      0.68       158\n",
      "             Paranthropus Robustus       0.86      0.81      0.84       149\n",
      "     hominino Ardipithecus ramidus       1.00      1.00      1.00       143\n",
      "       hominino Orrorin tugenencin       1.00      1.00      1.00       159\n",
      "hominino Sahelanthropus tchadensis       1.00      1.00      1.00       158\n",
      "\n",
      "                          accuracy                           0.94      3600\n",
      "                         macro avg       0.94      0.94      0.94      3600\n",
      "                      weighted avg       0.94      0.94      0.94      3600\n",
      "\n"
     ]
    }
   ],
   "source": [
    "from sklearn.neighbors import KNeighborsClassifier\n",
    "\n",
    "model = KNeighborsClassifier()\n",
    "model.fit(X_train_scaled, y_train)\n",
    "y_pred = model.predict(X_test_scaled)\n",
    "\n",
    "print(\"KNN Accuracy:\", accuracy_score(y_test, y_pred))\n",
    "print(\"KNN Report:\\n\", classification_report(y_test, y_pred))\n"
   ]
  },
  {
   "cell_type": "markdown",
   "metadata": {},
   "source": [
    "### Gradient boosting"
   ]
  },
  {
   "cell_type": "code",
   "execution_count": 106,
   "metadata": {},
   "outputs": [
    {
     "name": "stdout",
     "output_type": "stream",
     "text": [
      "Gradient Boosting Accuracy: 0.9352777777777778\n",
      "Gradient Boosting Report:\n",
      "                                     precision    recall  f1-score   support\n",
      "\n",
      "        Australopithecus Afarensis       0.80      0.74      0.77       151\n",
      "        Australopithecus Africanus       1.00      1.00      1.00       142\n",
      "        Australopithecus Anamensis       0.79      0.83      0.81       162\n",
      "    Australopithecus Bahrelghazali       1.00      0.99      1.00       155\n",
      "            Australopithecus Garhi       1.00      1.00      1.00       148\n",
      "           Australopithecus Sediba       0.77      0.84      0.81       139\n",
      "                    Homo Antecesor       1.00      1.00      1.00       146\n",
      "                      Homo Erectus       1.00      1.00      1.00       139\n",
      "                     Homo Ergaster       1.00      1.00      1.00       175\n",
      "                 Homo Floresiensis       1.00      1.00      1.00       155\n",
      "                    Homo Georgicus       1.00      1.00      1.00       150\n",
      "                      Homo Habilis       1.00      1.00      1.00       146\n",
      "              Homo Heidelbergensis       1.00      1.00      1.00       140\n",
      "                       Homo Naledi       1.00      1.00      1.00       128\n",
      "             Homo Neanderthalensis       1.00      1.00      1.00       152\n",
      "                 Homo Rodhesiensis       1.00      1.00      1.00       149\n",
      "                  Homo Rudolfensis       0.98      0.97      0.98       155\n",
      "                      Homo Sapiens       1.00      1.00      1.00       142\n",
      "          Paranthropus Aethiopicus       0.67      0.62      0.64       159\n",
      "               Paranthropus Boisei       0.64      0.72      0.68       158\n",
      "             Paranthropus Robustus       0.84      0.77      0.80       149\n",
      "     hominino Ardipithecus ramidus       1.00      1.00      1.00       143\n",
      "       hominino Orrorin tugenencin       1.00      1.00      1.00       159\n",
      "hominino Sahelanthropus tchadensis       1.00      1.00      1.00       158\n",
      "\n",
      "                          accuracy                           0.94      3600\n",
      "                         macro avg       0.94      0.94      0.94      3600\n",
      "                      weighted avg       0.94      0.94      0.94      3600\n",
      "\n"
     ]
    }
   ],
   "source": [
    "from sklearn.ensemble import GradientBoostingClassifier\n",
    "\n",
    "model = GradientBoostingClassifier(random_state=42)\n",
    "model.fit(X_train_scaled, y_train)\n",
    "y_pred = model.predict(X_test_scaled)\n",
    "\n",
    "print(\"Gradient Boosting Accuracy:\", accuracy_score(y_test, y_pred))\n",
    "print(\"Gradient Boosting Report:\\n\", classification_report(y_test, y_pred))\n"
   ]
  },
  {
   "cell_type": "markdown",
   "metadata": {},
   "source": [
    "### Ajuste de hiperparametros para SVM"
   ]
  },
  {
   "cell_type": "code",
   "execution_count": 107,
   "metadata": {},
   "outputs": [
    {
     "name": "stdout",
     "output_type": "stream",
     "text": [
      "Best Hyperparameters: {'C': 10, 'gamma': 10, 'kernel': 'rbf'}\n"
     ]
    }
   ],
   "source": [
    "from sklearn.model_selection import GridSearchCV\n",
    "from sklearn.svm import SVC\n",
    "\n",
    "# Definir el espacio de hiperparámetros\n",
    "param_grid = {\n",
    "    'C': [0.1, 1, 10, 100],\n",
    "    'gamma': [0.01, 0.1, 1, 10],\n",
    "    'kernel': ['linear', 'rbf', 'poly']\n",
    "}\n",
    "\n",
    "# Crear el modelo SVM\n",
    "svm_model = SVC()\n",
    "\n",
    "# Inicializar Grid Search\n",
    "grid_search = GridSearchCV(estimator=svm_model, param_grid=param_grid, cv=5, scoring='accuracy')\n",
    "\n",
    "# Ejecutar Grid Search\n",
    "grid_search.fit(X_train_scaled, y_train)\n",
    "\n",
    "# Obtener los mejores hiperparámetros y el mejor modelo\n",
    "best_params = grid_search.best_params_\n",
    "best_model = grid_search.best_estimator_\n",
    "\n",
    "# Imprimir los mejores hiperparámetros\n",
    "print(\"Best Hyperparameters:\", best_params)\n"
   ]
  },
  {
   "cell_type": "markdown",
   "metadata": {},
   "source": [
    "### validación cruzada al modelo ajustado"
   ]
  },
  {
   "cell_type": "code",
   "execution_count": 109,
   "metadata": {},
   "outputs": [
    {
     "name": "stdout",
     "output_type": "stream",
     "text": [
      "Cross-Validation Scores: [0.94583333 0.94404762 0.94285714 0.94166667 0.93690476]\n",
      "Mean Accuracy: 0.9422619047619047\n",
      "Standard Deviation of Accuracy: 0.00301169300968416\n"
     ]
    }
   ],
   "source": [
    "from sklearn.model_selection import cross_val_score, StratifiedKFold\n",
    "from sklearn.svm import SVC\n",
    "\n",
    "# Crear un nuevo modelo SVM con los mejores hiperparámetros encontrados\n",
    "best_svm_model = SVC(C=10, gamma=10, kernel='rbf')\n",
    "\n",
    "# Definir el esquema de validación cruzada (k-fold)\n",
    "k_fold = StratifiedKFold(n_splits=5, shuffle=True, random_state=42)\n",
    "\n",
    "# Realizar la validación cruzada\n",
    "cv_scores = cross_val_score(best_svm_model, X_train_scaled, y_train, cv=k_fold, scoring='accuracy')\n",
    "\n",
    "# Imprimir los puntajes de validación cruzada\n",
    "print(\"Cross-Validation Scores:\", cv_scores)\n",
    "\n",
    "# Calcular la precisión media y la desviación estándar de los puntajes\n",
    "print(\"Mean Accuracy:\", cv_scores.mean())\n",
    "print(\"Standard Deviation of Accuracy:\", cv_scores.std())\n"
   ]
  },
  {
   "cell_type": "markdown",
   "metadata": {},
   "source": [
    "### ajustar nuevo modelo a nuestros datos y probar en datos de test"
   ]
  },
  {
   "cell_type": "code",
   "execution_count": 115,
   "metadata": {},
   "outputs": [
    {
     "name": "stdout",
     "output_type": "stream",
     "text": [
      "Accuracy on Test Set: 0.9372222222222222\n",
      "                                    precision    recall  f1-score   support\n",
      "\n",
      "        Australopithecus Afarensis       0.78      0.79      0.79       151\n",
      "        Australopithecus Africanus       1.00      1.00      1.00       142\n",
      "        Australopithecus Anamensis       0.81      0.79      0.80       162\n",
      "    Australopithecus Bahrelghazali       1.00      1.00      1.00       155\n",
      "            Australopithecus Garhi       1.00      1.00      1.00       148\n",
      "           Australopithecus Sediba       0.80      0.83      0.81       139\n",
      "                    Homo Antecesor       1.00      1.00      1.00       146\n",
      "                      Homo Erectus       1.00      1.00      1.00       139\n",
      "                     Homo Ergaster       1.00      1.00      1.00       175\n",
      "                 Homo Floresiensis       1.00      1.00      1.00       155\n",
      "                    Homo Georgicus       1.00      1.00      1.00       150\n",
      "                      Homo Habilis       1.00      1.00      1.00       146\n",
      "              Homo Heidelbergensis       1.00      1.00      1.00       140\n",
      "                       Homo Naledi       1.00      1.00      1.00       128\n",
      "             Homo Neanderthalensis       1.00      1.00      1.00       152\n",
      "                 Homo Rodhesiensis       1.00      1.00      1.00       149\n",
      "                  Homo Rudolfensis       1.00      1.00      1.00       155\n",
      "                      Homo Sapiens       1.00      1.00      1.00       142\n",
      "          Paranthropus Aethiopicus       0.69      0.58      0.63       159\n",
      "               Paranthropus Boisei       0.64      0.74      0.68       158\n",
      "             Paranthropus Robustus       0.83      0.81      0.82       149\n",
      "     hominino Ardipithecus ramidus       1.00      1.00      1.00       143\n",
      "       hominino Orrorin tugenencin       1.00      1.00      1.00       159\n",
      "hominino Sahelanthropus tchadensis       1.00      1.00      1.00       158\n",
      "\n",
      "                          accuracy                           0.94      3600\n",
      "                         macro avg       0.94      0.94      0.94      3600\n",
      "                      weighted avg       0.94      0.94      0.94      3600\n",
      "\n"
     ]
    }
   ],
   "source": [
    "from sklearn.svm import SVC\n",
    "from sklearn.metrics import accuracy_score\n",
    "\n",
    "# Crear un nuevo modelo SVM con los mejores hiperparámetros encontrados\n",
    "best_svm_model = SVC(C=10, gamma=10, kernel='rbf')\n",
    "\n",
    "# Entrenar el modelo con los datos de entrenamiento\n",
    "best_svm_model.fit(X_train_scaled, y_train)\n",
    "\n",
    "# Predecir en el conjunto de prueba\n",
    "y_pred_test = best_svm_model.predict(X_test_scaled)\n",
    "\n",
    "# Calcular la precisión del modelo en el conjunto de prueba\n",
    "accuracy_test = accuracy_score(y_test, y_pred_test)\n",
    "print(\"Accuracy on Test Set:\", accuracy_test)\n",
    "report = classification_report(y_test, y_pred_test)\n",
    "\n",
    "# Imprimir el informe de clasificación\n",
    "print(report)\n",
    "\n"
   ]
  },
  {
   "cell_type": "markdown",
   "metadata": {},
   "source": [
    "## Conclusión\n",
    " Descubrimos que svm es el modelo que mejor clasifica\n",
    " con una precision promedio de 94.22 en conjunto de train y 93.72 en conjunto de test, clasificando \"Genus&Specie\" satisfactoriamente "
   ]
  }
 ],
 "metadata": {
  "kernelspec": {
   "display_name": "crashcourse",
   "language": "python",
   "name": "python3"
  },
  "language_info": {
   "codemirror_mode": {
    "name": "ipython",
    "version": 3
   },
   "file_extension": ".py",
   "mimetype": "text/x-python",
   "name": "python",
   "nbconvert_exporter": "python",
   "pygments_lexer": "ipython3",
   "version": "3.12.2"
  }
 },
 "nbformat": 4,
 "nbformat_minor": 2
}

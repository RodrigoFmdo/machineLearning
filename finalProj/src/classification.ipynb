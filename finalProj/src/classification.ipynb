{
 "cells": [
  {
   "cell_type": "code",
   "execution_count": 16,
   "metadata": {},
   "outputs": [],
   "source": [
    "#imports\n",
    "import numpy as np\n",
    "import pandas as pd\n",
    "import matplotlib.pyplot as plt\n",
    "import seaborn as sns\n",
    "\n",
    "#mostrar graficos dentro del notebook\n",
    "%matplotlib inline\n",
    "#no mostrar warnings\n",
    "import warnings\n",
    "warnings.filterwarnings(\"ignore\")"
   ]
  },
  {
   "cell_type": "code",
   "execution_count": 17,
   "metadata": {},
   "outputs": [],
   "source": [
    "#leer csv\n",
    "data = pd.read_csv('/Users/rod/Desktop/materias/machineLearning/finalProj/data/humanEvo.csv')"
   ]
  },
  {
   "cell_type": "markdown",
   "metadata": {},
   "source": [
    "## Exploración de los datos"
   ]
  },
  {
   "cell_type": "code",
   "execution_count": 18,
   "metadata": {},
   "outputs": [
    {
     "data": {
      "text/plain": [
       "(12000, 28)"
      ]
     },
     "execution_count": 18,
     "metadata": {},
     "output_type": "execute_result"
    }
   ],
   "source": [
    "#shape del dataframe\n",
    "data.shape"
   ]
  },
  {
   "cell_type": "code",
   "execution_count": 19,
   "metadata": {},
   "outputs": [
    {
     "data": {
      "text/html": [
       "<div>\n",
       "<style scoped>\n",
       "    .dataframe tbody tr th:only-of-type {\n",
       "        vertical-align: middle;\n",
       "    }\n",
       "\n",
       "    .dataframe tbody tr th {\n",
       "        vertical-align: top;\n",
       "    }\n",
       "\n",
       "    .dataframe thead th {\n",
       "        text-align: right;\n",
       "    }\n",
       "</style>\n",
       "<table border=\"1\" class=\"dataframe\">\n",
       "  <thead>\n",
       "    <tr style=\"text-align: right;\">\n",
       "      <th></th>\n",
       "      <th>Genus_&amp;_Specie</th>\n",
       "      <th>Time</th>\n",
       "      <th>Location</th>\n",
       "      <th>Zone</th>\n",
       "      <th>Current_Country</th>\n",
       "      <th>Habitat</th>\n",
       "      <th>Cranial_Capacity</th>\n",
       "      <th>Height</th>\n",
       "      <th>Incisor_Size</th>\n",
       "      <th>Jaw_Shape</th>\n",
       "      <th>...</th>\n",
       "      <th>biped</th>\n",
       "      <th>Arms</th>\n",
       "      <th>Foots</th>\n",
       "      <th>Diet</th>\n",
       "      <th>Sexual_Dimorphism</th>\n",
       "      <th>Hip</th>\n",
       "      <th>Vertical_Front</th>\n",
       "      <th>Anatomy</th>\n",
       "      <th>Migrated</th>\n",
       "      <th>Skeleton</th>\n",
       "    </tr>\n",
       "  </thead>\n",
       "  <tbody>\n",
       "    <tr>\n",
       "      <th>0</th>\n",
       "      <td>hominino Orrorin tugenencin</td>\n",
       "      <td>6.041124</td>\n",
       "      <td>Africa</td>\n",
       "      <td>oriental</td>\n",
       "      <td>Kenya</td>\n",
       "      <td>forest</td>\n",
       "      <td>144.51410</td>\n",
       "      <td>110.24323</td>\n",
       "      <td>small</td>\n",
       "      <td>conical</td>\n",
       "      <td>...</td>\n",
       "      <td>low probability</td>\n",
       "      <td>climbing</td>\n",
       "      <td>climbing</td>\n",
       "      <td>dry fruits</td>\n",
       "      <td>high</td>\n",
       "      <td>wide</td>\n",
       "      <td>no</td>\n",
       "      <td>old</td>\n",
       "      <td>no</td>\n",
       "      <td>light</td>\n",
       "    </tr>\n",
       "    <tr>\n",
       "      <th>1</th>\n",
       "      <td>hominino Ardipithecus ramidus / kabadda</td>\n",
       "      <td>4.383910</td>\n",
       "      <td>Africa</td>\n",
       "      <td>oriental</td>\n",
       "      <td>Ethiopia</td>\n",
       "      <td>mixed</td>\n",
       "      <td>293.96021</td>\n",
       "      <td>107.69018</td>\n",
       "      <td>small</td>\n",
       "      <td>conical</td>\n",
       "      <td>...</td>\n",
       "      <td>high probability</td>\n",
       "      <td>climbing</td>\n",
       "      <td>climbing</td>\n",
       "      <td>soft fruits</td>\n",
       "      <td>medium-high</td>\n",
       "      <td>wide</td>\n",
       "      <td>no</td>\n",
       "      <td>old</td>\n",
       "      <td>no</td>\n",
       "      <td>light</td>\n",
       "    </tr>\n",
       "    <tr>\n",
       "      <th>2</th>\n",
       "      <td>Australopithecus Afarensis</td>\n",
       "      <td>3.749413</td>\n",
       "      <td>Africa</td>\n",
       "      <td>oriental</td>\n",
       "      <td>Kenya</td>\n",
       "      <td>mixed</td>\n",
       "      <td>264.79849</td>\n",
       "      <td>123.76644</td>\n",
       "      <td>big</td>\n",
       "      <td>U shape</td>\n",
       "      <td>...</td>\n",
       "      <td>yes</td>\n",
       "      <td>climbing</td>\n",
       "      <td>walk</td>\n",
       "      <td>dry fruits</td>\n",
       "      <td>high</td>\n",
       "      <td>slim</td>\n",
       "      <td>no</td>\n",
       "      <td>old</td>\n",
       "      <td>no</td>\n",
       "      <td>refined</td>\n",
       "    </tr>\n",
       "  </tbody>\n",
       "</table>\n",
       "<p>3 rows × 28 columns</p>\n",
       "</div>"
      ],
      "text/plain": [
       "                            Genus_&_Specie      Time Location      Zone  \\\n",
       "0              hominino Orrorin tugenencin  6.041124   Africa  oriental   \n",
       "1  hominino Ardipithecus ramidus / kabadda  4.383910   Africa  oriental   \n",
       "2               Australopithecus Afarensis  3.749413   Africa  oriental   \n",
       "\n",
       "  Current_Country Habitat  Cranial_Capacity     Height Incisor_Size Jaw_Shape  \\\n",
       "0           Kenya  forest         144.51410  110.24323        small   conical   \n",
       "1        Ethiopia   mixed         293.96021  107.69018        small   conical   \n",
       "2           Kenya   mixed         264.79849  123.76644          big   U shape   \n",
       "\n",
       "   ...             biped      Arms     Foots         Diet Sexual_Dimorphism  \\\n",
       "0  ...   low probability  climbing  climbing   dry fruits              high   \n",
       "1  ...  high probability  climbing  climbing  soft fruits       medium-high   \n",
       "2  ...               yes  climbing      walk   dry fruits              high   \n",
       "\n",
       "    Hip Vertical_Front Anatomy Migrated Skeleton  \n",
       "0  wide             no     old       no    light  \n",
       "1  wide             no     old       no    light  \n",
       "2  slim             no     old       no  refined  \n",
       "\n",
       "[3 rows x 28 columns]"
      ]
     },
     "execution_count": 19,
     "metadata": {},
     "output_type": "execute_result"
    }
   ],
   "source": [
    "#mirar 3 muestras\n",
    "data.head(3)"
   ]
  },
  {
   "cell_type": "code",
   "execution_count": 20,
   "metadata": {},
   "outputs": [
    {
     "name": "stdout",
     "output_type": "stream",
     "text": [
      "valores faltantes: Genus_&_Specie             0\n",
      "Time                       0\n",
      "Location                   0\n",
      "Zone                       0\n",
      "Current_Country            0\n",
      "Habitat                    0\n",
      "Cranial_Capacity           0\n",
      "Height                     0\n",
      "Incisor_Size               0\n",
      "Jaw_Shape                  0\n",
      "Torus_Supraorbital         0\n",
      "Prognathism                0\n",
      "Foramen_Mágnum_Position    0\n",
      "Canine Size                0\n",
      "Canines_Shape              0\n",
      "Tooth_Enamel               0\n",
      "Tecno                      0\n",
      "Tecno_type                 0\n",
      "biped                      0\n",
      "Arms                       0\n",
      "Foots                      0\n",
      "Diet                       0\n",
      "Sexual_Dimorphism          0\n",
      "Hip                        0\n",
      "Vertical_Front             0\n",
      "Anatomy                    0\n",
      "Migrated                   0\n",
      "Skeleton                   0\n",
      "dtype: int64\n"
     ]
    }
   ],
   "source": [
    "# ahora vemos si hay valores faltantes y cuántos\n",
    "print(f\"valores faltantes: {data.isna().sum()}\")"
   ]
  },
  {
   "cell_type": "code",
   "execution_count": 21,
   "metadata": {},
   "outputs": [
    {
     "name": "stdout",
     "output_type": "stream",
     "text": [
      "valores únicos de Genus_&_Specie: ['hominino Orrorin tugenencin' 'hominino Ardipithecus ramidus / kabadda'\n",
      " 'Australopithecus Afarensis' 'Australopithecus Anamensis'\n",
      " 'Australopithecus Africanus' 'Homo Rodhesiensis'\n",
      " 'hominino Sahelanthropus tchadensis' 'Homo Neanderthalensis\\n'\n",
      " 'Paranthropus Aethiopicus' 'Homo Erectus' 'Homo Naledi'\n",
      " 'Homo Floresiensis' 'Paranthropus Boisei' 'Homo Rudolfensis'\n",
      " 'Homo Habilis' 'Homo Sapiens' 'Homo Antecesor' 'Homo Ergaster'\n",
      " 'Australopithecus Sediba' 'Homo Georgicus'\n",
      " 'Australopithecus Bahrelghazali' 'Australopithecus Garhi'\n",
      " 'Paranthropus Robustus' 'Homo Heidelbergensis']\n"
     ]
    }
   ],
   "source": [
    "#miremos los valores unicos de nuestra variable dependiente \n",
    "print(f'valores únicos de Genus_&_Specie: {data[\"Genus_&_Specie\"].unique()}')"
   ]
  },
  {
   "cell_type": "markdown",
   "metadata": {},
   "source": [
    "# Preprocesamiento"
   ]
  },
  {
   "cell_type": "markdown",
   "metadata": {},
   "source": [
    "#### Notemos que tenemos dos valores que toma Genus_&_Specie no cumplen el formato genero-especie que tienen todos los demás:\n",
    " - 'hominino Ardipithecus ramidus / kabadda'\n",
    " - 'Homo Neanderthalensis\\n'\n",
    "#### así que al primero le quitaremos la alternativa que tiene de especie después de la diagonal.\n",
    "#### y al segundo le quitaremos el '\\n' que no hace sentido"
   ]
  },
  {
   "cell_type": "code",
   "execution_count": 22,
   "metadata": {},
   "outputs": [],
   "source": [
    "# Eliminar la especie después de la barra inclinada '/'\n",
    "data['Genus_&_Specie'] = data['Genus_&_Specie'].apply(lambda x: x.split('/')[0].strip() if '/' in x else x)\n",
    "\n",
    "# Eliminar el carácter de salto de línea '\\n'\n",
    "data['Genus_&_Specie'] = data['Genus_&_Specie'].str.replace('\\n', '')"
   ]
  },
  {
   "cell_type": "code",
   "execution_count": 23,
   "metadata": {},
   "outputs": [
    {
     "name": "stdout",
     "output_type": "stream",
     "text": [
      "valores únicos de Genus_&_Specie: ['hominino Orrorin tugenencin' 'hominino Ardipithecus ramidus'\n",
      " 'Australopithecus Afarensis' 'Australopithecus Anamensis'\n",
      " 'Australopithecus Africanus' 'Homo Rodhesiensis'\n",
      " 'hominino Sahelanthropus tchadensis' 'Homo Neanderthalensis'\n",
      " 'Paranthropus Aethiopicus' 'Homo Erectus' 'Homo Naledi'\n",
      " 'Homo Floresiensis' 'Paranthropus Boisei' 'Homo Rudolfensis'\n",
      " 'Homo Habilis' 'Homo Sapiens' 'Homo Antecesor' 'Homo Ergaster'\n",
      " 'Australopithecus Sediba' 'Homo Georgicus'\n",
      " 'Australopithecus Bahrelghazali' 'Australopithecus Garhi'\n",
      " 'Paranthropus Robustus' 'Homo Heidelbergensis']\n"
     ]
    }
   ],
   "source": [
    "#verificamos los cambios\n",
    "print(f'valores únicos de Genus_&_Specie: {data[\"Genus_&_Specie\"].unique()}')"
   ]
  },
  {
   "cell_type": "markdown",
   "metadata": {},
   "source": [
    "### Quitaremos del dataframe las columnas que podrían no darnos información muy relevante:\n",
    " -Zone\n",
    " -Habitat\n",
    " -Anatomy\n",
    " -Migrated"
   ]
  },
  {
   "cell_type": "code",
   "execution_count": 24,
   "metadata": {},
   "outputs": [],
   "source": [
    "# columnas a eliminar\n",
    "elim = ['Zone', 'Habitat', 'Anatomy', 'Migrated']\n",
    "\n",
    "# Eliminar las columnas del DataFrame\n",
    "data = data.drop(elim, axis=1)\n"
   ]
  },
  {
   "cell_type": "code",
   "execution_count": 25,
   "metadata": {},
   "outputs": [
    {
     "data": {
      "text/plain": [
       "(12000, 24)"
      ]
     },
     "execution_count": 25,
     "metadata": {},
     "output_type": "execute_result"
    }
   ],
   "source": [
    "# verificamos que se hayan eliminado 4 columnas\n",
    "data.shape"
   ]
  }
 ],
 "metadata": {
  "kernelspec": {
   "display_name": "crashcourse",
   "language": "python",
   "name": "python3"
  },
  "language_info": {
   "codemirror_mode": {
    "name": "ipython",
    "version": 3
   },
   "file_extension": ".py",
   "mimetype": "text/x-python",
   "name": "python",
   "nbconvert_exporter": "python",
   "pygments_lexer": "ipython3",
   "version": "3.12.2"
  }
 },
 "nbformat": 4,
 "nbformat_minor": 2
}
